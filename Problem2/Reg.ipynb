{
 "cells": [
  {
   "cell_type": "code",
   "execution_count": 387,
   "metadata": {},
   "outputs": [],
   "source": [
    "# Authors: Rahul Ramachandran and Rishit D\n",
    "\n",
    "# Importing the required libraries\n",
    "try:\n",
    "    import numpy as np\n",
    "    import pandas as pd\n",
    "    import ucimlrepo\n",
    "    from sklearn.linear_model import LinearRegression\n",
    "    from statsmodels.miscmodels.ordinal_model import OrderedModel\n",
    "except:\n",
    "    print(f'[INFO] Installing the required libraries')\n",
    "    !pip install numpy\n",
    "    !pip install pandas\n",
    "    !pip install ucimlrepo\n",
    "    !pip install scikit-learn\n",
    "    !pip install statsmodels\n",
    "    import numpy as np\n",
    "    import pandas as pd\n",
    "    import ucimlrepo\n",
    "    from sklearn.linear_model import LinearRegression\n",
    "    from statsmodels.miscmodels.ordinal_model import OrderedModel\n"
   ]
  },
  {
   "cell_type": "code",
   "execution_count": 388,
   "metadata": {},
   "outputs": [
    {
     "name": "stdout",
     "output_type": "stream",
     "text": [
      "[INFO] Dataset loaded successfully\n",
      "{'uci_id': 186, 'name': 'Wine Quality', 'repository_url': 'https://archive.ics.uci.edu/dataset/186/wine+quality', 'data_url': 'https://archive.ics.uci.edu/static/public/186/data.csv', 'abstract': 'Two datasets are included, related to red and white vinho verde wine samples, from the north of Portugal. The goal is to model wine quality based on physicochemical tests (see [Cortez et al., 2009], http://www3.dsi.uminho.pt/pcortez/wine/).', 'area': 'Business', 'tasks': ['Classification', 'Regression'], 'characteristics': ['Multivariate'], 'num_instances': 4898, 'num_features': 11, 'feature_types': ['Real'], 'demographics': [], 'target_col': ['quality'], 'index_col': None, 'has_missing_values': 'no', 'missing_values_symbol': None, 'year_of_dataset_creation': 2009, 'last_updated': 'Thu Aug 10 2023', 'dataset_doi': '10.24432/C56S3T', 'creators': ['Paulo Cortez', 'A. Cerdeira', 'F. Almeida', 'T. Matos', 'J. Reis'], 'intro_paper': {'title': 'Modeling wine preferences by data mining from physicochemical properties', 'authors': 'P. Cortez, A. Cerdeira, Fernando Almeida, Telmo Matos, J. Reis', 'published_in': 'Decision Support Systems', 'year': 2009, 'url': 'https://www.semanticscholar.org/paper/Modeling-wine-preferences-by-data-mining-from-Cortez-Cerdeira/bf15a0ccc14ac1deb5cea570c870389c16be019c', 'doi': None}, 'additional_info': {'summary': 'The two datasets are related to red and white variants of the Portuguese \"Vinho Verde\" wine. For more details, consult: http://www.vinhoverde.pt/en/ or the reference [Cortez et al., 2009].  Due to privacy and logistic issues, only physicochemical (inputs) and sensory (the output) variables are available (e.g. there is no data about grape types, wine brand, wine selling price, etc.).\\n\\nThese datasets can be viewed as classification or regression tasks.  The classes are ordered and not balanced (e.g. there are many more normal wines than excellent or poor ones). Outlier detection algorithms could be used to detect the few excellent or poor wines. Also, we are not sure if all input variables are relevant. So it could be interesting to test feature selection methods.\\n', 'purpose': None, 'funded_by': None, 'instances_represent': None, 'recommended_data_splits': None, 'sensitive_data': None, 'preprocessing_description': None, 'variable_info': 'For more information, read [Cortez et al., 2009].\\r\\nInput variables (based on physicochemical tests):\\r\\n   1 - fixed acidity\\r\\n   2 - volatile acidity\\r\\n   3 - citric acid\\r\\n   4 - residual sugar\\r\\n   5 - chlorides\\r\\n   6 - free sulfur dioxide\\r\\n   7 - total sulfur dioxide\\r\\n   8 - density\\r\\n   9 - pH\\r\\n   10 - sulphates\\r\\n   11 - alcohol\\r\\nOutput variable (based on sensory data): \\r\\n   12 - quality (score between 0 and 10)', 'citation': None}}\n",
      "                    name     role        type demographic  \\\n",
      "0          fixed_acidity  Feature  Continuous        None   \n",
      "1       volatile_acidity  Feature  Continuous        None   \n",
      "2            citric_acid  Feature  Continuous        None   \n",
      "3         residual_sugar  Feature  Continuous        None   \n",
      "4              chlorides  Feature  Continuous        None   \n",
      "5    free_sulfur_dioxide  Feature  Continuous        None   \n",
      "6   total_sulfur_dioxide  Feature  Continuous        None   \n",
      "7                density  Feature  Continuous        None   \n",
      "8                     pH  Feature  Continuous        None   \n",
      "9              sulphates  Feature  Continuous        None   \n",
      "10               alcohol  Feature  Continuous        None   \n",
      "11               quality   Target     Integer        None   \n",
      "\n",
      "               description units missing_values  \n",
      "0                     None  None             no  \n",
      "1                     None  None             no  \n",
      "2                     None  None             no  \n",
      "3                     None  None             no  \n",
      "4                     None  None             no  \n",
      "5                     None  None             no  \n",
      "6                     None  None             no  \n",
      "7                     None  None             no  \n",
      "8                     None  None             no  \n",
      "9                     None  None             no  \n",
      "10                    None  None             no  \n",
      "11  score between 0 and 10  None             no  \n"
     ]
    }
   ],
   "source": [
    "from ucimlrepo import fetch_ucirepo \n",
    "\n",
    "# fetch dataset \n",
    "wine_quality = fetch_ucirepo(id=186) \n",
    "print(f'[INFO] Dataset loaded successfully')\n",
    "\n",
    "# data (as pandas dataframes) \n",
    "X = wine_quality.data.features \n",
    "y = wine_quality.data.targets \n",
    "\n",
    "# metadata \n",
    "print(wine_quality.metadata) \n",
    "# variable information \n",
    "print(wine_quality.variables) "
   ]
  },
  {
   "cell_type": "code",
   "execution_count": 395,
   "metadata": {},
   "outputs": [],
   "source": [
    "# Function which evaluates\n",
    "def evaluate(y_true, y_pred, pred_type:str, verbose:bool=True):\n",
    "    \"\"\"Prints the evaluation metrics for the model. \n",
    "    This includes:\n",
    "        Mean Absolute Error (MAE), Mean Squared Error (MSE), Ratio of Correct Predictions, Almost Correct Predictions (Difference of 1)\n",
    "    params:\n",
    "        y_true: The true labels (np.array or pandas dataframe of predicted class (shape: (n, 1)) or probabilities (shape: (n, c)))\n",
    "        y_pred: The predicted labels (np.array or pandas dataframe of predicted class (shape: (n, 1)))\n",
    "        pred_type: The type of y_true (either 'probs' or 'labels')\n",
    "    \"\"\"\n",
    "    assert pred_type == 'probs' or pred_type == 'labels', \"type must be either 'probs' or 'labels'\"\n",
    "\n",
    "    if pred_type == 'labels':\n",
    "        pred, gt = y_pred, y_true\n",
    "        if verbose:\n",
    "            print(f'MAE: {np.mean(np.abs(pred - gt))}')\n",
    "            print(f'MSE: {np.mean((pred - gt)**2)}')\n",
    "            print(f'Correct Predictions: {np.sum(np.rint(pred) == gt)} out of {len(gt)}')\n",
    "            print(f'Almost Correct Predictions: {np.sum(np.abs(np.rint(pred) - gt) <= 1)} out of {len(gt)}')\n",
    "        return np.sum(np.rint(pred) == gt)/len(gt)\n",
    "    else:\n",
    "        probs, gt = y_pred, y_true\n",
    "        pred = np.sum(probs * np.array(list(range(int(y.min().iloc[0]), int(y.max().iloc[0])+1))), axis=1)[:, np.newaxis] # predictions are expected values of the distribution\n",
    "        if verbose:\n",
    "            print(f'MAE: {np.mean(np.abs(pred - gt))}')\n",
    "            print(f'MSE: {np.mean((pred - gt)**2)}')\n",
    "            print(f'Correct Predictions: {np.sum((probs.argmax(1) + 3)[:, np.newaxis] == gt)} out of {len(gt)}')\n",
    "            print(f'Almost Correct Predictions: {np.sum(np.abs((probs.argmax(1) + 3)[:, np.newaxis] - gt) <= 1)} out of {len(gt)}')\n",
    "        return np.sum((probs.argmax(1) + 3)[:, np.newaxis] == gt)/len(gt)"
   ]
  },
  {
   "cell_type": "code",
   "execution_count": 396,
   "metadata": {},
   "outputs": [],
   "source": [
    "# Prepare training and testing data\n",
    "from sklearn.model_selection import train_test_split\n",
    "\n",
    "# Join X and y, stratify based on y\n",
    "data = pd.concat([X, y], axis=1)\n",
    "# data_train = data.sample(frac=0.8, random_state=42)\n",
    "# X_train = data_train.iloc[:, :-1]\n",
    "# y_train = data_train.iloc[:, -1]\n",
    "\n",
    "# data_test = data.drop(data_train.index)\n",
    "# X_test = data_test.iloc[:, :-1]\n",
    "# y_test = data_test.iloc[:, -1]\n",
    "\n",
    "# stratified_data = train_test_split(data, test_size=0.2, stratify=y, random_state=100)\n",
    "# train, test = stratified_data\n",
    "# X_train, y_train = train.iloc[:, :-1], train.iloc[:, -1]\n",
    "# X_test, y_test = test.iloc[:, :-1], test.iloc[:, -1]\n",
    "\n",
    "nX, ny = len(X), len(y)\n",
    "train_size = int(0.8 * nX)\n",
    "X_train, X_test = X[:train_size], X[train_size:]\n",
    "y_train, y_test = y[:train_size], y[train_size:]"
   ]
  },
  {
   "cell_type": "code",
   "execution_count": 397,
   "metadata": {},
   "outputs": [
    {
     "name": "stdout",
     "output_type": "stream",
     "text": [
      "Linear Regression Score: 0.29926906612869675\n"
     ]
    }
   ],
   "source": [
    "# Fit the Linear Regression Model\n",
    "reg_model = LinearRegression().fit(X_train, y_train)\n",
    "print(f'Linear Regression Score: {reg_model.score(X_train, y_train)}')"
   ]
  },
  {
   "cell_type": "code",
   "execution_count": 398,
   "metadata": {},
   "outputs": [
    {
     "name": "stdout",
     "output_type": "stream",
     "text": [
      "MAE: 0.5513533210016455\n",
      "MSE: 0.507210463667933\n",
      "Correct Predictions: 518 out of 980\n",
      "Almost Correct Predictions: 942 out of 980\n"
     ]
    }
   ],
   "source": [
    "# Evaluate the Linear Regression Model\n",
    "pred, gt = np.array(reg_model.predict(X_test))[:, np.newaxis], np.array(y_test)[:, np.newaxis]\n",
    "acc = evaluate(gt, pred, 'labels')"
   ]
  },
  {
   "cell_type": "code",
   "execution_count": 399,
   "metadata": {},
   "outputs": [
    {
     "name": "stdout",
     "output_type": "stream",
     "text": [
      "Range of values: 3 to 9\n"
     ]
    }
   ],
   "source": [
    "from pandas.api.types import CategoricalDtype\n",
    "\n",
    "# Create an ordered categorical type for ordinal regression\n",
    "print(f'Range of values: {int(y.min().iloc[0])} to {int(y.max().iloc[0])}')\n",
    "ctype = CategoricalDtype(categories=list(range(int(y.min().iloc[0]), int(y.max().iloc[0])+1)), ordered=True)\n",
    "y_train = y_train.astype(ctype)"
   ]
  },
  {
   "cell_type": "code",
   "execution_count": 406,
   "metadata": {},
   "outputs": [
    {
     "name": "stdout",
     "output_type": "stream",
     "text": [
      "Optimization terminated successfully.\n",
      "         Current function value: 1.154877\n",
      "         Iterations: 132\n",
      "         Function evaluations: 138\n",
      "         Gradient evaluations: 138\n"
     ]
    }
   ],
   "source": [
    "# Fit the Ordinal Regression Model\n",
    "\n",
    "# CLogLog for proportional hazards\n",
    "class CLogLog(stats.rv_continuous):\n",
    "    def _ppf(self, q):\n",
    "        return np.log(-np.log(1 - q))\n",
    "\n",
    "    def _cdf(self, x):\n",
    "        return 1 - np.exp(-np.exp(x))\n",
    "\n",
    "\n",
    "cloglog = CLogLog()\n",
    "\n",
    "ord_model = OrderedModel(y_train, X_train, distr=cloglog)\n",
    "ord_model = ord_model.fit(method='bfgs', maxiter=10000)\n",
    "\n",
    "# import mord \n",
    "\n",
    "# ord_model = mord.OrdinalRidge(alpha=5)\n",
    "# ord_model.fit(np.array(X_train), np.array(y_train))"
   ]
  },
  {
   "cell_type": "code",
   "execution_count": 407,
   "metadata": {},
   "outputs": [
    {
     "name": "stdout",
     "output_type": "stream",
     "text": [
      "MAE: 0.5371400005088605\n",
      "MSE: 0.4860243626072449\n",
      "Correct Predictions: 553 out of 980\n",
      "Almost Correct Predictions: 949 out of 980\n"
     ]
    },
    {
     "data": {
      "text/plain": [
       "0.5642857142857143"
      ]
     },
     "execution_count": 407,
     "metadata": {},
     "output_type": "execute_result"
    }
   ],
   "source": [
    "# Evaluate the Ordinal Regression Model\n",
    "probs, gt = np.array(ord_model.model.predict(ord_model.params, X_test)), np.array(y_test)\n",
    "evaluate(gt, probs, 'probs')\n",
    "\n",
    "# pred, gt = np.array(ord_model.predict(np.array(X_test)))[:, np.newaxis], np.array(y_test)[:, np.newaxis]\n",
    "# acc = evaluate(gt, pred, 'labels')"
   ]
  },
  {
   "cell_type": "code",
   "execution_count": null,
   "metadata": {},
   "outputs": [
    {
     "name": "stdout",
     "output_type": "stream",
     "text": [
      "(array([  1,  25, 266, 517, 151,  20,   0]), array([ 3.,  4.,  5.,  6.,  7.,  8.,  9., 10.]))\n"
     ]
    },
    {
     "data": {
      "image/png": "[encoded data removed]",
      "text/plain": [
       "<Figure size 640x480 with 1 Axes>"
      ]
     },
     "metadata": {},
     "output_type": "display_data"
    }
   ],
   "source": [
    "# print(np.histogram(y_test, bins=7))\n",
    "# print(np.histogram(y_train, bins=7))\n",
    "import matplotlib.pyplot as plt\n",
    "plt.hist(y_test, bins=7, range=(3, 10))\n",
    "print(np.histogram(y_test, bins=7, range=(3, 10)))\n",
    "plt.show()"
   ]
  },
  {
   "cell_type": "code",
   "execution_count": null,
   "metadata": {},
   "outputs": [
    {
     "name": "stdout",
     "output_type": "stream",
     "text": [
      "(array([  19,  138, 1191, 1681,  729,  155,    5]), array([ 3.,  4.,  5.,  6.,  7.,  8.,  9., 10.]))\n"
     ]
    },
    {
     "data": {
      "image/png": "[encoded data removed]",
      "text/plain": [
       "<Figure size 640x480 with 1 Axes>"
      ]
     },
     "metadata": {},
     "output_type": "display_data"
    }
   ],
   "source": [
    "plt.hist(y_train, bins=7, range=(3, 10))\n",
    "print(np.histogram(y_train, bins=7, range=(3, 10)))\n",
    "plt.show()"
   ]
  },
  {
   "cell_type": "code",
   "execution_count": null,
   "metadata": {},
   "outputs": [
    {
     "ename": "ValueError",
     "evalue": "x must have 2 or fewer dimensions",
     "output_type": "error",
     "traceback": [
      "\u001b[0;31m---------------------------------------------------------------------------\u001b[0m",
      "\u001b[0;31mValueError\u001b[0m                                Traceback (most recent call last)",
      "Cell \u001b[0;32mIn[383], line 1\u001b[0m\n\u001b[0;32m----> 1\u001b[0m plt\u001b[39m.\u001b[39;49mhist(pred, bins\u001b[39m=\u001b[39;49m\u001b[39m7\u001b[39;49m, \u001b[39mrange\u001b[39;49m\u001b[39m=\u001b[39;49m(\u001b[39m3\u001b[39;49m, \u001b[39m10\u001b[39;49m))\n\u001b[1;32m      2\u001b[0m \u001b[39mprint\u001b[39m(np\u001b[39m.\u001b[39mhistogram(pred, bins\u001b[39m=\u001b[39m\u001b[39m7\u001b[39m, \u001b[39mrange\u001b[39m\u001b[39m=\u001b[39m(\u001b[39m3\u001b[39m, \u001b[39m10\u001b[39m)))\n\u001b[1;32m      3\u001b[0m plt\u001b[39m.\u001b[39mshow()\n",
      "File \u001b[0;32m~/anaconda3/envs/foml/lib/python3.11/site-packages/matplotlib/pyplot.py:3224\u001b[0m, in \u001b[0;36mhist\u001b[0;34m(x, bins, range, density, weights, cumulative, bottom, histtype, align, orientation, rwidth, log, color, label, stacked, data, **kwargs)\u001b[0m\n\u001b[1;32m   3199\u001b[0m \u001b[39m@_copy_docstring_and_deprecators\u001b[39m(Axes\u001b[39m.\u001b[39mhist)\n\u001b[1;32m   3200\u001b[0m \u001b[39mdef\u001b[39;00m \u001b[39mhist\u001b[39m(\n\u001b[1;32m   3201\u001b[0m     x: ArrayLike \u001b[39m|\u001b[39m Sequence[ArrayLike],\n\u001b[0;32m   (...)\u001b[0m\n\u001b[1;32m   3222\u001b[0m     BarContainer \u001b[39m|\u001b[39m Polygon \u001b[39m|\u001b[39m \u001b[39mlist\u001b[39m[BarContainer \u001b[39m|\u001b[39m Polygon],\n\u001b[1;32m   3223\u001b[0m ]:\n\u001b[0;32m-> 3224\u001b[0m     \u001b[39mreturn\u001b[39;00m gca()\u001b[39m.\u001b[39;49mhist(\n\u001b[1;32m   3225\u001b[0m         x,\n\u001b[1;32m   3226\u001b[0m         bins\u001b[39m=\u001b[39;49mbins,\n\u001b[1;32m   3227\u001b[0m         \u001b[39mrange\u001b[39;49m\u001b[39m=\u001b[39;49m\u001b[39mrange\u001b[39;49m,\n\u001b[1;32m   3228\u001b[0m         density\u001b[39m=\u001b[39;49mdensity,\n\u001b[1;32m   3229\u001b[0m         weights\u001b[39m=\u001b[39;49mweights,\n\u001b[1;32m   3230\u001b[0m         cumulative\u001b[39m=\u001b[39;49mcumulative,\n\u001b[1;32m   3231\u001b[0m         bottom\u001b[39m=\u001b[39;49mbottom,\n\u001b[1;32m   3232\u001b[0m         histtype\u001b[39m=\u001b[39;49mhisttype,\n\u001b[1;32m   3233\u001b[0m         align\u001b[39m=\u001b[39;49malign,\n\u001b[1;32m   3234\u001b[0m         orientation\u001b[39m=\u001b[39;49morientation,\n\u001b[1;32m   3235\u001b[0m         rwidth\u001b[39m=\u001b[39;49mrwidth,\n\u001b[1;32m   3236\u001b[0m         log\u001b[39m=\u001b[39;49mlog,\n\u001b[1;32m   3237\u001b[0m         color\u001b[39m=\u001b[39;49mcolor,\n\u001b[1;32m   3238\u001b[0m         label\u001b[39m=\u001b[39;49mlabel,\n\u001b[1;32m   3239\u001b[0m         stacked\u001b[39m=\u001b[39;49mstacked,\n\u001b[1;32m   3240\u001b[0m         \u001b[39m*\u001b[39;49m\u001b[39m*\u001b[39;49m({\u001b[39m\"\u001b[39;49m\u001b[39mdata\u001b[39;49m\u001b[39m\"\u001b[39;49m: data} \u001b[39mif\u001b[39;49;00m data \u001b[39mis\u001b[39;49;00m \u001b[39mnot\u001b[39;49;00m \u001b[39mNone\u001b[39;49;00m \u001b[39melse\u001b[39;49;00m {}),\n\u001b[1;32m   3241\u001b[0m         \u001b[39m*\u001b[39;49m\u001b[39m*\u001b[39;49mkwargs,\n\u001b[1;32m   3242\u001b[0m     )\n",
      "File \u001b[0;32m~/anaconda3/envs/foml/lib/python3.11/site-packages/matplotlib/__init__.py:1465\u001b[0m, in \u001b[0;36m_preprocess_data.<locals>.inner\u001b[0;34m(ax, data, *args, **kwargs)\u001b[0m\n\u001b[1;32m   1462\u001b[0m \u001b[39m@functools\u001b[39m\u001b[39m.\u001b[39mwraps(func)\n\u001b[1;32m   1463\u001b[0m \u001b[39mdef\u001b[39;00m \u001b[39minner\u001b[39m(ax, \u001b[39m*\u001b[39margs, data\u001b[39m=\u001b[39m\u001b[39mNone\u001b[39;00m, \u001b[39m*\u001b[39m\u001b[39m*\u001b[39mkwargs):\n\u001b[1;32m   1464\u001b[0m     \u001b[39mif\u001b[39;00m data \u001b[39mis\u001b[39;00m \u001b[39mNone\u001b[39;00m:\n\u001b[0;32m-> 1465\u001b[0m         \u001b[39mreturn\u001b[39;00m func(ax, \u001b[39m*\u001b[39;49m\u001b[39mmap\u001b[39;49m(sanitize_sequence, args), \u001b[39m*\u001b[39;49m\u001b[39m*\u001b[39;49mkwargs)\n\u001b[1;32m   1467\u001b[0m     bound \u001b[39m=\u001b[39m new_sig\u001b[39m.\u001b[39mbind(ax, \u001b[39m*\u001b[39margs, \u001b[39m*\u001b[39m\u001b[39m*\u001b[39mkwargs)\n\u001b[1;32m   1468\u001b[0m     auto_label \u001b[39m=\u001b[39m (bound\u001b[39m.\u001b[39marguments\u001b[39m.\u001b[39mget(label_namer)\n\u001b[1;32m   1469\u001b[0m                   \u001b[39mor\u001b[39;00m bound\u001b[39m.\u001b[39mkwargs\u001b[39m.\u001b[39mget(label_namer))\n",
      "File \u001b[0;32m~/anaconda3/envs/foml/lib/python3.11/site-packages/matplotlib/axes/_axes.py:6767\u001b[0m, in \u001b[0;36mAxes.hist\u001b[0;34m(self, x, bins, range, density, weights, cumulative, bottom, histtype, align, orientation, rwidth, log, color, label, stacked, **kwargs)\u001b[0m\n\u001b[1;32m   6764\u001b[0m     stacked \u001b[39m=\u001b[39m \u001b[39mTrue\u001b[39;00m\n\u001b[1;32m   6766\u001b[0m \u001b[39m# Massage 'x' for processing.\u001b[39;00m\n\u001b[0;32m-> 6767\u001b[0m x \u001b[39m=\u001b[39m cbook\u001b[39m.\u001b[39;49m_reshape_2D(x, \u001b[39m'\u001b[39;49m\u001b[39mx\u001b[39;49m\u001b[39m'\u001b[39;49m)\n\u001b[1;32m   6768\u001b[0m nx \u001b[39m=\u001b[39m \u001b[39mlen\u001b[39m(x)  \u001b[39m# number of datasets\u001b[39;00m\n\u001b[1;32m   6770\u001b[0m \u001b[39m# Process unit information.  _process_unit_info sets the unit and\u001b[39;00m\n\u001b[1;32m   6771\u001b[0m \u001b[39m# converts the first dataset; then we convert each following dataset\u001b[39;00m\n\u001b[1;32m   6772\u001b[0m \u001b[39m# one at a time.\u001b[39;00m\n",
      "File \u001b[0;32m~/anaconda3/envs/foml/lib/python3.11/site-packages/matplotlib/cbook.py:1391\u001b[0m, in \u001b[0;36m_reshape_2D\u001b[0;34m(X, name)\u001b[0m\n\u001b[1;32m   1389\u001b[0m         \u001b[39mreturn\u001b[39;00m [np\u001b[39m.\u001b[39mreshape(x, \u001b[39m-\u001b[39m\u001b[39m1\u001b[39m) \u001b[39mfor\u001b[39;00m x \u001b[39min\u001b[39;00m X]\n\u001b[1;32m   1390\u001b[0m     \u001b[39melse\u001b[39;00m:\n\u001b[0;32m-> 1391\u001b[0m         \u001b[39mraise\u001b[39;00m \u001b[39mValueError\u001b[39;00m(\u001b[39mf\u001b[39m\u001b[39m'\u001b[39m\u001b[39m{\u001b[39;00mname\u001b[39m}\u001b[39;00m\u001b[39m must have 2 or fewer dimensions\u001b[39m\u001b[39m'\u001b[39m)\n\u001b[1;32m   1393\u001b[0m \u001b[39m# Iterate over list of iterables.\u001b[39;00m\n\u001b[1;32m   1394\u001b[0m \u001b[39mif\u001b[39;00m \u001b[39mlen\u001b[39m(X) \u001b[39m==\u001b[39m \u001b[39m0\u001b[39m:\n",
      "\u001b[0;31mValueError\u001b[0m: x must have 2 or fewer dimensions"
     ]
    },
    {
     "data": {
      "image/png": "[encoded data removed]",
      "text/plain": [
       "<Figure size 640x480 with 1 Axes>"
      ]
     },
     "metadata": {},
     "output_type": "display_data"
    }
   ],
   "source": [
    "plt.hist(pred, bins=7, range=(3, 10))\n",
    "print(np.histogram(pred, bins=7, range=(3, 10)))\n",
    "plt.show()"
   ]
  },
  {
   "cell_type": "code",
   "execution_count": null,
   "metadata": {},
   "outputs": [],
   "source": []
  }
 ],
 "metadata": {
  "kernelspec": {
   "display_name": "foml",
   "language": "python",
   "name": "python3"
  },
  "language_info": {
   "codemirror_mode": {
    "name": "ipython",
    "version": 3
   },
   "file_extension": ".py",
   "mimetype": "text/x-python",
   "name": "python",
   "nbconvert_exporter": "python",
   "pygments_lexer": "ipython3",
   "version": "3.11.5"
  },
  "orig_nbformat": 4
 },
 "nbformat": 4,
 "nbformat_minor": 2
}
