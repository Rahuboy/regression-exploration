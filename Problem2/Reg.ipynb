{
 "cells": [
  {
   "cell_type": "code",
   "execution_count": 98,
   "metadata": {},
   "outputs": [],
   "source": [
    "# Authors: Rahul Ramachandran and Rishit D\n",
    "\n",
    "# Importing the required libraries\n",
    "try:\n",
    "    import numpy as np\n",
    "    import pandas as pd\n",
    "    from pandas.api.types import CategoricalDtype\n",
    "    from ucimlrepo import fetch_ucirepo \n",
    "    from sklearn.linear_model import LinearRegression\n",
    "    from statsmodels.miscmodels.ordinal_model import OrderedModel\n",
    "    import scipy.stats as stats\n",
    "except:\n",
    "    print(f'[INFO] Installing the required libraries')\n",
    "    !pip install numpy\n",
    "    !pip install pandas\n",
    "    !pip install ucimlrepo\n",
    "    !pip install scikit-learn\n",
    "    !pip install statsmodels\n",
    "    !pip install scipy\n",
    "    import numpy as np\n",
    "    import pandas as pd\n",
    "    from pandas.api.types import CategoricalDtype\n",
    "    from ucimlrepo import fetch_ucirepo \n",
    "    from sklearn.linear_model import LinearRegression\n",
    "    from statsmodels.miscmodels.ordinal_model import OrderedModel\n",
    "    import scipy.stats as stats\n"
   ]
  },
  {
   "cell_type": "code",
   "execution_count": 151,
   "metadata": {},
   "outputs": [
    {
     "name": "stdout",
     "output_type": "stream",
     "text": [
      "[INFO] Dataset loaded successfully\n",
      "{'uci_id': 186, 'name': 'Wine Quality', 'repository_url': 'https://archive.ics.uci.edu/dataset/186/wine+quality', 'data_url': 'https://archive.ics.uci.edu/static/public/186/data.csv', 'abstract': 'Two datasets are included, related to red and white vinho verde wine samples, from the north of Portugal. The goal is to model wine quality based on physicochemical tests (see [Cortez et al., 2009], http://www3.dsi.uminho.pt/pcortez/wine/).', 'area': 'Business', 'tasks': ['Classification', 'Regression'], 'characteristics': ['Multivariate'], 'num_instances': 4898, 'num_features': 11, 'feature_types': ['Real'], 'demographics': [], 'target_col': ['quality'], 'index_col': None, 'has_missing_values': 'no', 'missing_values_symbol': None, 'year_of_dataset_creation': 2009, 'last_updated': 'Thu Aug 10 2023', 'dataset_doi': '10.24432/C56S3T', 'creators': ['Paulo Cortez', 'A. Cerdeira', 'F. Almeida', 'T. Matos', 'J. Reis'], 'intro_paper': {'title': 'Modeling wine preferences by data mining from physicochemical properties', 'authors': 'P. Cortez, A. Cerdeira, Fernando Almeida, Telmo Matos, J. Reis', 'published_in': 'Decision Support Systems', 'year': 2009, 'url': 'https://www.semanticscholar.org/paper/Modeling-wine-preferences-by-data-mining-from-Cortez-Cerdeira/bf15a0ccc14ac1deb5cea570c870389c16be019c', 'doi': None}, 'additional_info': {'summary': 'The two datasets are related to red and white variants of the Portuguese \"Vinho Verde\" wine. For more details, consult: http://www.vinhoverde.pt/en/ or the reference [Cortez et al., 2009].  Due to privacy and logistic issues, only physicochemical (inputs) and sensory (the output) variables are available (e.g. there is no data about grape types, wine brand, wine selling price, etc.).\\n\\nThese datasets can be viewed as classification or regression tasks.  The classes are ordered and not balanced (e.g. there are many more normal wines than excellent or poor ones). Outlier detection algorithms could be used to detect the few excellent or poor wines. Also, we are not sure if all input variables are relevant. So it could be interesting to test feature selection methods.\\n', 'purpose': None, 'funded_by': None, 'instances_represent': None, 'recommended_data_splits': None, 'sensitive_data': None, 'preprocessing_description': None, 'variable_info': 'For more information, read [Cortez et al., 2009].\\r\\nInput variables (based on physicochemical tests):\\r\\n   1 - fixed acidity\\r\\n   2 - volatile acidity\\r\\n   3 - citric acid\\r\\n   4 - residual sugar\\r\\n   5 - chlorides\\r\\n   6 - free sulfur dioxide\\r\\n   7 - total sulfur dioxide\\r\\n   8 - density\\r\\n   9 - pH\\r\\n   10 - sulphates\\r\\n   11 - alcohol\\r\\nOutput variable (based on sensory data): \\r\\n   12 - quality (score between 0 and 10)', 'citation': None}}\n",
      "                    name     role        type demographic  \\\n",
      "0          fixed_acidity  Feature  Continuous        None   \n",
      "1       volatile_acidity  Feature  Continuous        None   \n",
      "2            citric_acid  Feature  Continuous        None   \n",
      "3         residual_sugar  Feature  Continuous        None   \n",
      "4              chlorides  Feature  Continuous        None   \n",
      "5    free_sulfur_dioxide  Feature  Continuous        None   \n",
      "6   total_sulfur_dioxide  Feature  Continuous        None   \n",
      "7                density  Feature  Continuous        None   \n",
      "8                     pH  Feature  Continuous        None   \n",
      "9              sulphates  Feature  Continuous        None   \n",
      "10               alcohol  Feature  Continuous        None   \n",
      "11               quality   Target     Integer        None   \n",
      "\n",
      "               description units missing_values  \n",
      "0                     None  None             no  \n",
      "1                     None  None             no  \n",
      "2                     None  None             no  \n",
      "3                     None  None             no  \n",
      "4                     None  None             no  \n",
      "5                     None  None             no  \n",
      "6                     None  None             no  \n",
      "7                     None  None             no  \n",
      "8                     None  None             no  \n",
      "9                     None  None             no  \n",
      "10                    None  None             no  \n",
      "11  score between 0 and 10  None             no  \n"
     ]
    }
   ],
   "source": [
    "# fetch dataset \n",
    "wine_quality = fetch_ucirepo(id=186) \n",
    "print(f'[INFO] Dataset loaded successfully')\n",
    "\n",
    "# data (as pandas dataframes) \n",
    "X = wine_quality.data.features \n",
    "y = wine_quality.data.targets \n",
    "\n",
    "# metadata \n",
    "print(wine_quality.metadata) \n",
    "# variable information \n",
    "print(wine_quality.variables) "
   ]
  },
  {
   "cell_type": "code",
   "execution_count": 152,
   "metadata": {},
   "outputs": [],
   "source": [
    "# Prepare training and testing data\n",
    "nX, ny = len(X), len(y)\n",
    "train_size = int(0.8 * nX)\n",
    "X_train, X_test = X[:train_size], X[train_size:]\n",
    "y_train, y_test = y[:train_size], y[train_size:]"
   ]
  },
  {
   "cell_type": "code",
   "execution_count": 145,
   "metadata": {},
   "outputs": [
    {
     "name": "stdout",
     "output_type": "stream",
     "text": [
      "Linear Regression Score: 0.29926906612869675\n"
     ]
    }
   ],
   "source": [
    "# Fit the Linear Regression Model\n",
    "reg_model = LinearRegression().fit(X_train, y_train)\n",
    "print(f'Linear Regression Score: {reg_model.score(X_train, y_train)}')"
   ]
  },
  {
   "cell_type": "code",
   "execution_count": 146,
   "metadata": {},
   "outputs": [
    {
     "name": "stdout",
     "output_type": "stream",
     "text": [
      "Linear Regression MAE: 0.5513533210016455\n",
      "Linear Regression MSE: 0.507210463667933\n",
      "Correct Predictions: 518 out of 980\n"
     ]
    }
   ],
   "source": [
    "# Evaluate the Linear Regression Model\n",
    "pred, gt = np.array(reg_model.predict(X_test)), np.array(y_test)\n",
    "print(f'Linear Regression MAE: {np.mean(np.abs(pred - gt))}')\n",
    "print(f'Linear Regression MSE: {np.mean((pred - gt)**2)}')\n",
    "print(f'Correct Predictions: {np.sum(np.rint(pred) == gt)} out of {len(gt)}')"
   ]
  },
  {
   "cell_type": "code",
   "execution_count": 147,
   "metadata": {},
   "outputs": [
    {
     "name": "stdout",
     "output_type": "stream",
     "text": [
      "Range of values: 3 to 9\n"
     ]
    }
   ],
   "source": [
    "# Create an ordered categorical type for ordinal regression\n",
    "print(f'Range of values: {int(y.min().iloc[0])} to {int(y.max().iloc[0])}')\n",
    "ctype = CategoricalDtype(categories=list(range(int(y.min().iloc[0]), int(y.max().iloc[0])+1)), ordered=True)\n",
    "y_train = y_train.astype(ctype)"
   ]
  },
  {
   "cell_type": "code",
   "execution_count": 148,
   "metadata": {},
   "outputs": [
    {
     "name": "stdout",
     "output_type": "stream",
     "text": [
      "Optimization terminated successfully.\n",
      "         Current function value: 1.154877\n",
      "         Iterations: 132\n",
      "         Function evaluations: 138\n",
      "         Gradient evaluations: 138\n"
     ]
    }
   ],
   "source": [
    "# Fit the Ordinal Regression Model\n",
    "\n",
    "# CLogLog for proportional hazards\n",
    "class CLogLog(stats.rv_continuous):\n",
    "    def _ppf(self, q):\n",
    "        return np.log(-np.log(1 - q))\n",
    "\n",
    "    def _cdf(self, x):\n",
    "        return 1 - np.exp(-np.exp(x))\n",
    "\n",
    "\n",
    "cloglog = CLogLog()\n",
    "\n",
    "ord_model = OrderedModel(y_train, X_train, distr=cloglog)\n",
    "ord_model = ord_model.fit(method='bfgs')"
   ]
  },
  {
   "cell_type": "code",
   "execution_count": 149,
   "metadata": {},
   "outputs": [
    {
     "name": "stdout",
     "output_type": "stream",
     "text": [
      "Ordinal Regression MAE: 0.5371400005088605\n",
      "Ordinal Regression MSE: 0.4860243626072449\n",
      "Correct Predictions: 553 out of 980\n"
     ]
    }
   ],
   "source": [
    "# Evaluate the Ordinal Regression Model\n",
    "probs, gt = np.array(ord_model.model.predict(ord_model.params, X_test)), np.array(y_test) \n",
    "pred = np.sum(probs * np.array(list(range(int(y.min().iloc[0]), int(y.max().iloc[0])+1))), axis=1)[:, np.newaxis] # predictions are expected values of the distribution\n",
    "print(f'Ordinal Regression MAE: {np.mean(np.abs(pred - gt))}')\n",
    "print(f'Ordinal Regression MSE: {np.mean((pred - gt)**2)}')\n",
    "print(f'Correct Predictions: {np.sum((probs.argmax(1) + 3)[:, np.newaxis] == gt)} out of {len(gt)}')"
   ]
  }
 ],
 "metadata": {
  "kernelspec": {
   "display_name": "foml",
   "language": "python",
   "name": "python3"
  },
  "language_info": {
   "codemirror_mode": {
    "name": "ipython",
    "version": 3
   },
   "file_extension": ".py",
   "mimetype": "text/x-python",
   "name": "python",
   "nbconvert_exporter": "python",
   "pygments_lexer": "ipython3",
   "version": "3.11.5"
  },
  "orig_nbformat": 4
 },
 "nbformat": 4,
 "nbformat_minor": 2
}
