{
 "cells": [
  {
   "cell_type": "code",
   "execution_count": 197,
   "metadata": {},
   "outputs": [],
   "source": [
    "# Authors: Rahul Ramachandran and Rishit D\n",
    "\n",
    "# Importing the required libraries\n",
    "try:\n",
    "    import numpy as np\n",
    "    import pandas as pd\n",
    "    from sklearn.linear_model import LinearRegression\n",
    "    from sklearn.model_selection import cross_validate\n",
    "    import scipy\n",
    "    import matplotlib.pyplot as plt\n",
    "except:\n",
    "    print(f'[INFO] Installing the required libraries')\n",
    "    !pip install numpy\n",
    "    !pip install pandas\n",
    "    !pip install scikit-learn\n",
    "    !pip install scipy\n",
    "    !pip install matplotlib\n",
    "    import numpy as np\n",
    "    import pandas as pd\n",
    "    from sklearn.linear_model import LinearRegression\n",
    "    from sklearn.model_selection import cross_validate\n",
    "    from scipy.stats import poisson\n",
    "    import matplotlib.pyplot as plt"
   ]
  },
  {
   "cell_type": "code",
   "execution_count": 198,
   "metadata": {},
   "outputs": [
    {
     "data": {
      "text/plain": [
       "array([[ 3.32011692],\n",
       "       [ 4.05519997],\n",
       "       [ 4.95303242],\n",
       "       [ 6.04964746],\n",
       "       [ 7.3890561 ],\n",
       "       [ 9.0250135 ],\n",
       "       [11.02317638],\n",
       "       [13.46373804],\n",
       "       [16.44464677],\n",
       "       [20.08553692]])"
      ]
     },
     "execution_count": 198,
     "metadata": {},
     "output_type": "execute_result"
    }
   ],
   "source": [
    "# Toy data\n",
    "X = np.array([[0.1, 0.2, 0.3, 0.4, 0.5, 0.6, 0.7, 0.8, 0.9, 1]]).T # shape = (10, 1)\n",
    "theta = np.array([[1, 2]]).T # shape = (2, 1)\n",
    "# # Concatentate a column of ones to X\n",
    "X_c = np.concatenate((np.ones((X.shape[0], 1)), X), axis=1) # shape = (10, 2)\n",
    "# Generate the response variable y\n",
    "y = np.exp(X_c @ theta)# shape = (10, 1)\n",
    "y"
   ]
  },
  {
   "cell_type": "code",
   "execution_count": 199,
   "metadata": {},
   "outputs": [],
   "source": [
    "from typing import List\n",
    "\n",
    "class PoissonRegression:\n",
    "\n",
    "    def __init__(self, dim:int, alpha:float=0.01, n_iter:int=1000, lambda_:float=0.1, weights:np.ndarray=None):\n",
    "        \"\"\"\n",
    "            dim: Dimension of the data\n",
    "            alpha: Learning rate\n",
    "            n_iter: Max Number of iterations\n",
    "            lambda_: Regularization parameter\n",
    "            weights: Initial weights\n",
    "        \"\"\"\n",
    "        if weights is not None:\n",
    "            self.theta = weights\n",
    "            assert self.theta.shape == (dim+1, 1)\n",
    "        else:\n",
    "            self.theta = np.zeros((dim+1, 1)) # include the bias term\n",
    "        self.alpha = alpha\n",
    "        self.n_iter = n_iter\n",
    "        self.lambda_ = lambda_\n",
    "    \n",
    "    def fit(self, X:np.ndarray, y:np.ndarray):\n",
    "        \"\"\"Fits the model (theta) to the data\n",
    "            params:\n",
    "                X: shape = (n, dim)\n",
    "                y: shape = (n, 1)\n",
    "            returns:\n",
    "                List of losses\n",
    "                Weight vector theta\n",
    "        \"\"\"\n",
    "        losses = []\n",
    "\n",
    "        # Concatenate a column of ones to X\n",
    "        X_c = np.concatenate((np.ones((X.shape[0], 1)), X), axis=1) # shape = (n, dim+1)\n",
    "\n",
    "        for iter in range(self.n_iter):\n",
    "            # Calculate the loss (ignore the constant factorial term)\n",
    "            loss = -np.sum(y * (X_c @ self.theta) - np.exp(X_c @ self.theta)) + self.lambda_ * np.sum(self.theta**2)\n",
    "            losses.append(loss)\n",
    "\n",
    "            # Update theta\n",
    "            self.theta -= -self.alpha * (X_c.T @ (y - np.exp(X_c @ self.theta))) + 2 * self.lambda_ * self.theta\n",
    "        \n",
    "        return losses, self.theta\n",
    "    \n",
    "    def predict(self, X:np.ndarray)->np.ndarray:\n",
    "        \"\"\"Predicts the response variable\n",
    "            params:\n",
    "                X: shape = (n, dim)\n",
    "            returns:\n",
    "                y_pred: shape = (n, 1)\n",
    "        \"\"\"\n",
    "        # Concatenate a column of ones to X\n",
    "        X_c = np.concatenate((np.ones((X.shape[0], 1)), X), axis=1)\n",
    "        y_pred = np.exp(X_c @ self.theta)\n",
    "        return y_pred\n",
    "\n"
   ]
  },
  {
   "cell_type": "code",
   "execution_count": 200,
   "metadata": {},
   "outputs": [
    {
     "name": "stdout",
     "output_type": "stream",
     "text": [
      "[10.0, -90.39776254937064, -131.456616637732, -132.76743979317283, -133.07327484455226, -133.28140294001832, -133.45338529103188, -133.60578971159487, -133.742650828994, -133.86597018425925]\n"
     ]
    },
    {
     "data": {
      "image/png": "[encoded data removed]",
      "text/plain": [
       "<Figure size 640x480 with 1 Axes>"
      ]
     },
     "metadata": {},
     "output_type": "display_data"
    }
   ],
   "source": [
    "# Fit the model\n",
    "poisson = PoissonRegression(dim=1, alpha=1e-2, n_iter=1000, lambda_=0)\n",
    "losses, _ = poisson.fit(X, y)\n",
    "y_pred = poisson.predict(X)\n",
    "\n",
    "# Plot the losses\n",
    "plt.plot(losses)\n",
    "plt.xlabel('Iterations')\n",
    "plt.ylabel('Loss')\n",
    "print(losses[:10])"
   ]
  },
  {
   "cell_type": "code",
   "execution_count": 201,
   "metadata": {},
   "outputs": [
    {
     "data": {
      "text/plain": [
       "array([[ 6.21724894e-15],\n",
       "       [ 6.21724894e-15],\n",
       "       [ 6.21724894e-15],\n",
       "       [ 5.32907052e-15],\n",
       "       [ 6.21724894e-15],\n",
       "       [ 0.00000000e+00],\n",
       "       [ 3.55271368e-15],\n",
       "       [-5.32907052e-15],\n",
       "       [ 0.00000000e+00],\n",
       "       [-1.77635684e-14]])"
      ]
     },
     "execution_count": 201,
     "metadata": {},
     "output_type": "execute_result"
    }
   ],
   "source": [
    "# Plot the predictions\n",
    "y_pred_poisson = poisson.predict(X)\n",
    "y_pred_poisson - y"
   ]
  },
  {
   "cell_type": "code",
   "execution_count": 202,
   "metadata": {},
   "outputs": [
    {
     "data": {
      "text/plain": [
       "array([[-1.83169992],\n",
       "       [-0.76844976],\n",
       "       [ 0.132051  ],\n",
       "       [ 0.83376917],\n",
       "       [ 1.29269374],\n",
       "       [ 1.45506955],\n",
       "       [ 1.25523988],\n",
       "       [ 0.61301144],\n",
       "       [-0.56956408],\n",
       "       [-2.41212102]])"
      ]
     },
     "execution_count": 202,
     "metadata": {},
     "output_type": "execute_result"
    }
   ],
   "source": [
    "# Compare with linear regression\n",
    "linear = LinearRegression()\n",
    "linear.fit(X, y)\n",
    "y_pred_linear = linear.predict(X)\n",
    "y_pred_linear - y"
   ]
  },
  {
   "cell_type": "code",
   "execution_count": 203,
   "metadata": {},
   "outputs": [
    {
     "name": "stdout",
     "output_type": "stream",
     "text": [
      "(60, 4) (60, 1) (15, 4) (15, 1)\n"
     ]
    }
   ],
   "source": [
    "# Get data from the csv file\n",
    "df = pd.read_csv('final_data.csv')\n",
    "\n",
    "# Randomly select 80% of the data for training\n",
    "train = df.sample(frac=0.8, random_state=3)\n",
    "test = df.drop(train.index)\n",
    "X_train, y_train = np.array(train[[\"Day\",\"Company\",\"Ordered\",\"Event After\"]]), np.array(train[\"Duration\"])[:, np.newaxis]\n",
    "X_test, y_test = np.array(test[[\"Day\",\"Company\",\"Ordered\",\"Event After\"]]), np.array(test[\"Duration\"])[:, np.newaxis]\n",
    "print(X_train.shape, y_train.shape, X_test.shape, y_test.shape)"
   ]
  },
  {
   "cell_type": "code",
   "execution_count": 204,
   "metadata": {},
   "outputs": [
    {
     "name": "stdout",
     "output_type": "stream",
     "text": [
      "-4214.8696236360665\n",
      "[[ 2.69941828]\n",
      " [ 0.03182905]\n",
      " [ 0.64998092]\n",
      " [ 0.35137632]\n",
      " [-0.0190624 ]]\n",
      "1.7471475539352415\n",
      "7.820186667593069\n"
     ]
    },
    {
     "data": {
      "image/png": "[encoded data removed]",
      "text/plain": [
       "<Figure size 640x480 with 1 Axes>"
      ]
     },
     "metadata": {},
     "output_type": "display_data"
    }
   ],
   "source": [
    "# Fit the model\n",
    "poisson = PoissonRegression(dim=4, alpha=1e-7, n_iter=100000, lambda_=1e-8, weights=np.array([[1., 0., 1., 1., -1.]]).T)\n",
    "losses, weights = poisson.fit(X_train, y_train)\n",
    "\n",
    "# Plot the losses\n",
    "plt.plot(losses)\n",
    "plt.xlabel('Iterations')\n",
    "plt.ylabel('Loss')\n",
    "print(losses[-1])\n",
    "print(weights)\n",
    "\n",
    "# Find mean absolute error on the test set\n",
    "y_pred_pos = poisson.predict(X_test)\n",
    "mae = np.mean(np.abs(y_pred_pos - y_test))\n",
    "# print(y_pred - y_test)\n",
    "print(mae)\n",
    "# Find mean squared error on the test set\n",
    "mse = np.mean((y_pred_pos - y_test)**2)\n",
    "print(mse)"
   ]
  },
  {
   "cell_type": "code",
   "execution_count": 210,
   "metadata": {},
   "outputs": [
    {
     "name": "stdout",
     "output_type": "stream",
     "text": [
      "[[ 0.5577566  12.32268965  6.98542006 -1.99081043]] [18.49151664]\n",
      "['fit_time', 'score_time', 'test_score']\n",
      "{'fit_time': array([0.00304508, 0.0014987 , 0.00162554, 0.00136781, 0.00176287]), 'score_time': array([0.00180531, 0.00125742, 0.00106859, 0.00106049, 0.00121951]), 'test_score': array([0.51305541, 0.53829155, 0.17791021, 0.85464919, 0.62362679])}\n",
      "2.637805350449049\n",
      "10.122334268305952\n"
     ]
    }
   ],
   "source": [
    "# Fit linear regression\n",
    "linear = LinearRegression()\n",
    "vals = linear.fit(X_train, y_train)\n",
    "print(vals.coef_, vals.intercept_)\n",
    "y_pred_lin = linear.predict(X_test)\n",
    "\n",
    "# Cross-validate\n",
    "cv_results = cross_validate(linear, train[[\"Day\",\"Company\",\"Ordered\",\"Event After\"]], train[\"Duration\"], cv=5)\n",
    "print(sorted(cv_results.keys()))\n",
    "print(cv_results)\n",
    "\n",
    "# Find mean absolute error on the test set\n",
    "mae = np.mean(np.abs(y_pred_lin - y_test))\n",
    "print(mae)\n",
    "# Find mean squared error on the test set\n",
    "mse = np.mean((y_pred_lin - y_test)**2)\n",
    "print(mse)"
   ]
  },
  {
   "cell_type": "code",
   "execution_count": 206,
   "metadata": {},
   "outputs": [
    {
     "data": {
      "text/html": [
       "<div>\n",
       "<style scoped>\n",
       "    .dataframe tbody tr th:only-of-type {\n",
       "        vertical-align: middle;\n",
       "    }\n",
       "\n",
       "    .dataframe tbody tr th {\n",
       "        vertical-align: top;\n",
       "    }\n",
       "\n",
       "    .dataframe thead th {\n",
       "        text-align: right;\n",
       "    }\n",
       "</style>\n",
       "<table border=\"1\" class=\"dataframe\">\n",
       "  <thead>\n",
       "    <tr style=\"text-align: right;\">\n",
       "      <th></th>\n",
       "      <th>Linear</th>\n",
       "      <th>Target</th>\n",
       "      <th>Duration</th>\n",
       "      <th>P1</th>\n",
       "      <th>P2</th>\n",
       "      <th>P3</th>\n",
       "      <th>P4</th>\n",
       "    </tr>\n",
       "  </thead>\n",
       "  <tbody>\n",
       "    <tr>\n",
       "      <th>0</th>\n",
       "      <td>0.529541</td>\n",
       "      <td>0.148389</td>\n",
       "      <td>29.0</td>\n",
       "      <td>1.0</td>\n",
       "      <td>1.0</td>\n",
       "      <td>0.0</td>\n",
       "      <td>1.0</td>\n",
       "    </tr>\n",
       "    <tr>\n",
       "      <th>1</th>\n",
       "      <td>2.182260</td>\n",
       "      <td>-0.107229</td>\n",
       "      <td>17.0</td>\n",
       "      <td>5.0</td>\n",
       "      <td>0.0</td>\n",
       "      <td>0.0</td>\n",
       "      <td>1.0</td>\n",
       "    </tr>\n",
       "    <tr>\n",
       "      <th>2</th>\n",
       "      <td>1.147755</td>\n",
       "      <td>0.660279</td>\n",
       "      <td>32.0</td>\n",
       "      <td>3.0</td>\n",
       "      <td>1.0</td>\n",
       "      <td>0.0</td>\n",
       "      <td>0.0</td>\n",
       "    </tr>\n",
       "    <tr>\n",
       "      <th>3</th>\n",
       "      <td>0.203372</td>\n",
       "      <td>-0.399617</td>\n",
       "      <td>33.0</td>\n",
       "      <td>5.0</td>\n",
       "      <td>1.0</td>\n",
       "      <td>0.0</td>\n",
       "      <td>0.0</td>\n",
       "    </tr>\n",
       "    <tr>\n",
       "      <th>4</th>\n",
       "      <td>3.620438</td>\n",
       "      <td>0.128922</td>\n",
       "      <td>15.0</td>\n",
       "      <td>0.0</td>\n",
       "      <td>0.0</td>\n",
       "      <td>0.0</td>\n",
       "      <td>0.0</td>\n",
       "    </tr>\n",
       "    <tr>\n",
       "      <th>5</th>\n",
       "      <td>-2.679058</td>\n",
       "      <td>-1.478684</td>\n",
       "      <td>39.0</td>\n",
       "      <td>0.0</td>\n",
       "      <td>1.0</td>\n",
       "      <td>1.0</td>\n",
       "      <td>0.0</td>\n",
       "    </tr>\n",
       "    <tr>\n",
       "      <th>6</th>\n",
       "      <td>1.996314</td>\n",
       "      <td>0.937851</td>\n",
       "      <td>16.0</td>\n",
       "      <td>1.0</td>\n",
       "      <td>0.0</td>\n",
       "      <td>0.0</td>\n",
       "      <td>1.0</td>\n",
       "    </tr>\n",
       "    <tr>\n",
       "      <th>7</th>\n",
       "      <td>3.758506</td>\n",
       "      <td>-1.848524</td>\n",
       "      <td>14.0</td>\n",
       "      <td>2.0</td>\n",
       "      <td>0.0</td>\n",
       "      <td>0.0</td>\n",
       "      <td>0.0</td>\n",
       "    </tr>\n",
       "    <tr>\n",
       "      <th>8</th>\n",
       "      <td>3.832328</td>\n",
       "      <td>1.109785</td>\n",
       "      <td>18.0</td>\n",
       "      <td>4.0</td>\n",
       "      <td>0.0</td>\n",
       "      <td>0.0</td>\n",
       "      <td>0.0</td>\n",
       "    </tr>\n",
       "    <tr>\n",
       "      <th>9</th>\n",
       "      <td>-4.224126</td>\n",
       "      <td>-0.139266</td>\n",
       "      <td>43.0</td>\n",
       "      <td>2.0</td>\n",
       "      <td>1.0</td>\n",
       "      <td>1.0</td>\n",
       "      <td>0.0</td>\n",
       "    </tr>\n",
       "    <tr>\n",
       "      <th>10</th>\n",
       "      <td>-0.251303</td>\n",
       "      <td>-0.747969</td>\n",
       "      <td>30.0</td>\n",
       "      <td>3.0</td>\n",
       "      <td>1.0</td>\n",
       "      <td>0.0</td>\n",
       "      <td>1.0</td>\n",
       "    </tr>\n",
       "    <tr>\n",
       "      <th>11</th>\n",
       "      <td>-6.873181</td>\n",
       "      <td>-3.461590</td>\n",
       "      <td>44.0</td>\n",
       "      <td>5.0</td>\n",
       "      <td>1.0</td>\n",
       "      <td>1.0</td>\n",
       "      <td>0.0</td>\n",
       "    </tr>\n",
       "    <tr>\n",
       "      <th>12</th>\n",
       "      <td>2.640238</td>\n",
       "      <td>-2.403645</td>\n",
       "      <td>19.0</td>\n",
       "      <td>1.0</td>\n",
       "      <td>0.0</td>\n",
       "      <td>1.0</td>\n",
       "      <td>1.0</td>\n",
       "    </tr>\n",
       "    <tr>\n",
       "      <th>13</th>\n",
       "      <td>3.803705</td>\n",
       "      <td>8.638919</td>\n",
       "      <td>25.0</td>\n",
       "      <td>3.0</td>\n",
       "      <td>0.0</td>\n",
       "      <td>0.0</td>\n",
       "      <td>0.0</td>\n",
       "    </tr>\n",
       "    <tr>\n",
       "      <th>14</th>\n",
       "      <td>-7.850380</td>\n",
       "      <td>-3.996546</td>\n",
       "      <td>45.0</td>\n",
       "      <td>6.0</td>\n",
       "      <td>1.0</td>\n",
       "      <td>1.0</td>\n",
       "      <td>0.0</td>\n",
       "    </tr>\n",
       "  </tbody>\n",
       "</table>\n",
       "</div>"
      ],
      "text/plain": [
       "      Linear    Target  Duration   P1   P2   P3   P4\n",
       "0   0.529541  0.148389      29.0  1.0  1.0  0.0  1.0\n",
       "1   2.182260 -0.107229      17.0  5.0  0.0  0.0  1.0\n",
       "2   1.147755  0.660279      32.0  3.0  1.0  0.0  0.0\n",
       "3   0.203372 -0.399617      33.0  5.0  1.0  0.0  0.0\n",
       "4   3.620438  0.128922      15.0  0.0  0.0  0.0  0.0\n",
       "5  -2.679058 -1.478684      39.0  0.0  1.0  1.0  0.0\n",
       "6   1.996314  0.937851      16.0  1.0  0.0  0.0  1.0\n",
       "7   3.758506 -1.848524      14.0  2.0  0.0  0.0  0.0\n",
       "8   3.832328  1.109785      18.0  4.0  0.0  0.0  0.0\n",
       "9  -4.224126 -0.139266      43.0  2.0  1.0  1.0  0.0\n",
       "10 -0.251303 -0.747969      30.0  3.0  1.0  0.0  1.0\n",
       "11 -6.873181 -3.461590      44.0  5.0  1.0  1.0  0.0\n",
       "12  2.640238 -2.403645      19.0  1.0  0.0  1.0  1.0\n",
       "13  3.803705  8.638919      25.0  3.0  0.0  0.0  0.0\n",
       "14 -7.850380 -3.996546      45.0  6.0  1.0  1.0  0.0"
      ]
     },
     "execution_count": 206,
     "metadata": {},
     "output_type": "execute_result"
    }
   ],
   "source": [
    "# print(y_pred_lin - y_pred_pos)\n",
    "# print(y_test - y_pred_pos)\n",
    "# print(y_test)\n",
    "# print(X_test)\n",
    "\n",
    "new_data = np.concatenate((y_pred_lin - y_pred_pos, y_test - y_pred_pos, y_test, X_test), axis=1)\n",
    "pd.DataFrame(new_data, columns=[\"Linear\", \"Target\", \"Duration\", \"P1\", \"P2\", \"P3\", \"P4\"])"
   ]
  },
  {
   "cell_type": "code",
   "execution_count": null,
   "metadata": {},
   "outputs": [],
   "source": []
  }
 ],
 "metadata": {
  "kernelspec": {
   "display_name": "foml",
   "language": "python",
   "name": "python3"
  },
  "language_info": {
   "codemirror_mode": {
    "name": "ipython",
    "version": 3
   },
   "file_extension": ".py",
   "mimetype": "text/x-python",
   "name": "python",
   "nbconvert_exporter": "python",
   "pygments_lexer": "ipython3",
   "version": "3.10.12"
  },
  "orig_nbformat": 4
 },
 "nbformat": 4,
 "nbformat_minor": 2
}
