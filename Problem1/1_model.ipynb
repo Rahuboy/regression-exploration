{
 "cells": [
  {
   "cell_type": "code",
   "execution_count": 2,
   "metadata": {},
   "outputs": [],
   "source": [
    "# Authors: Rahul Ramachandran and Rishit D\n",
    "\n",
    "# Importing the required libraries\n",
    "try:\n",
    "    import numpy as np\n",
    "    import pandas as pd\n",
    "    from sklearn.linear_model import LinearRegression\n",
    "    import scipy\n",
    "    import matplotlib.pyplot as plt\n",
    "except:\n",
    "    print(f'[INFO] Installing the required libraries')\n",
    "    !pip install numpy\n",
    "    !pip install pandas\n",
    "    !pip install scikit-learn\n",
    "    !pip install scipy\n",
    "    !pip install matplotlib\n",
    "    import numpy as np\n",
    "    import pandas as pd\n",
    "    from sklearn.linear_model import LinearRegression\n",
    "    from scipy.stats import poisson\n",
    "    import matplotlib.pyplot as plt"
   ]
  },
  {
   "cell_type": "code",
   "execution_count": 63,
   "metadata": {},
   "outputs": [
    {
     "data": {
      "text/plain": [
       "array([[ 3.32011692],\n",
       "       [ 4.05519997],\n",
       "       [ 4.95303242],\n",
       "       [ 6.04964746],\n",
       "       [ 7.3890561 ],\n",
       "       [ 9.0250135 ],\n",
       "       [11.02317638],\n",
       "       [13.46373804],\n",
       "       [16.44464677],\n",
       "       [20.08553692]])"
      ]
     },
     "execution_count": 63,
     "metadata": {},
     "output_type": "execute_result"
    }
   ],
   "source": [
    "# Toy data\n",
    "X = np.array([[0.1, 0.2, 0.3, 0.4, 0.5, 0.6, 0.7, 0.8, 0.9, 1]]).T # shape = (10, 1)\n",
    "theta = np.array([[1, 2]]).T # shape = (2, 1)\n",
    "# # Concatentate a column of ones to X\n",
    "X_c = np.concatenate((np.ones((X.shape[0], 1)), X), axis=1) # shape = (10, 2)\n",
    "# Generate the response variable y\n",
    "y = np.exp(X_c @ theta)# shape = (10, 1)\n",
    "y"
   ]
  },
  {
   "cell_type": "code",
   "execution_count": 156,
   "metadata": {},
   "outputs": [],
   "source": [
    "from typing import List\n",
    "\n",
    "class PoissonRegression:\n",
    "\n",
    "    def __init__(self, dim:int, alpha:float=0.01, n_iter:int=1000, lambda_:float=0.1, weights:np.ndarray=None):\n",
    "        \"\"\"\n",
    "            dim: Dimension of the data\n",
    "            alpha: Learning rate\n",
    "            n_iter: Max Number of iterations\n",
    "            lambda_: Regularization parameter\n",
    "            weights: Initial weights\n",
    "        \"\"\"\n",
    "        if weights is not None:\n",
    "            self.theta = weights\n",
    "            assert self.theta.shape == (dim+1, 1)\n",
    "        else:\n",
    "            self.theta = np.zeros((dim+1, 1)) # include the bias term\n",
    "        self.alpha = alpha\n",
    "        self.n_iter = n_iter\n",
    "        self.lambda_ = lambda_\n",
    "    \n",
    "    def fit(self, X:np.ndarray, y:np.ndarray):\n",
    "        \"\"\"Fits the model (theta) to the data\n",
    "            params:\n",
    "                X: shape = (n, dim)\n",
    "                y: shape = (n, 1)\n",
    "            returns:\n",
    "                List of losses\n",
    "                Weight vector theta\n",
    "        \"\"\"\n",
    "        losses = []\n",
    "\n",
    "        # Concatenate a column of ones to X\n",
    "        X_c = np.concatenate((np.ones((X.shape[0], 1)), X), axis=1) # shape = (n, dim+1)\n",
    "\n",
    "        for iter in range(self.n_iter):\n",
    "            # Calculate the loss (ignore the constant factorial term)\n",
    "            loss = -np.sum(y * (X_c @ self.theta) - np.exp(X_c @ self.theta)) + self.lambda_ * np.sum(self.theta**2)\n",
    "            losses.append(loss)\n",
    "\n",
    "            # Update theta\n",
    "            self.theta -= -self.alpha * (X_c.T @ (y - np.exp(X_c @ self.theta))) + 2 * self.lambda_ * self.theta\n",
    "        \n",
    "        return losses, self.theta\n",
    "    \n",
    "    def predict(self, X:np.ndarray)->np.ndarray:\n",
    "        \"\"\"Predicts the response variable\n",
    "            params:\n",
    "                X: shape = (n, dim)\n",
    "            returns:\n",
    "                y_pred: shape = (n, 1)\n",
    "        \"\"\"\n",
    "        # Concatenate a column of ones to X\n",
    "        X_c = np.concatenate((np.ones((X.shape[0], 1)), X), axis=1)\n",
    "        y_pred = np.exp(X_c @ self.theta)\n",
    "        return y_pred\n",
    "\n"
   ]
  },
  {
   "cell_type": "code",
   "execution_count": 246,
   "metadata": {},
   "outputs": [
    {
     "name": "stdout",
     "output_type": "stream",
     "text": [
      "[10.0, -90.39776254937064, -131.456616637732, -132.76743979317283, -133.07327484455226, -133.28140294001832, -133.45338529103188, -133.60578971159487, -133.742650828994, -133.86597018425928]\n"
     ]
    },
    {
     "data": {
      "image/png": "[encoded data removed]",
      "text/plain": [
       "<Figure size 640x480 with 1 Axes>"
      ]
     },
     "metadata": {},
     "output_type": "display_data"
    }
   ],
   "source": [
    "# Fit the model\n",
    "poisson = PoissonRegression(dim=1, alpha=1e-2, n_iter=1000, lambda_=0)\n",
    "losses, _ = poisson.fit(X, y)\n",
    "y_pred = poisson.predict(X)\n",
    "\n",
    "# Plot the losses\n",
    "plt.plot(losses)\n",
    "plt.xlabel('Iterations')\n",
    "plt.ylabel('Loss')\n",
    "print(losses[:10])"
   ]
  },
  {
   "cell_type": "code",
   "execution_count": 71,
   "metadata": {},
   "outputs": [
    {
     "data": {
      "text/plain": [
       "array([[ 4.44089210e-15],\n",
       "       [ 5.32907052e-15],\n",
       "       [ 4.44089210e-15],\n",
       "       [ 3.55271368e-15],\n",
       "       [ 2.66453526e-15],\n",
       "       [ 0.00000000e+00],\n",
       "       [ 0.00000000e+00],\n",
       "       [ 0.00000000e+00],\n",
       "       [ 0.00000000e+00],\n",
       "       [-1.06581410e-14]])"
      ]
     },
     "execution_count": 71,
     "metadata": {},
     "output_type": "execute_result"
    }
   ],
   "source": [
    "# Plot the predictions\n",
    "y_pred_poisson = poisson.predict(X)\n",
    "y_pred_poisson - y"
   ]
  },
  {
   "cell_type": "code",
   "execution_count": 74,
   "metadata": {},
   "outputs": [
    {
     "data": {
      "text/plain": [
       "array([[-1.83169992],\n",
       "       [-0.76844976],\n",
       "       [ 0.132051  ],\n",
       "       [ 0.83376917],\n",
       "       [ 1.29269374],\n",
       "       [ 1.45506955],\n",
       "       [ 1.25523988],\n",
       "       [ 0.61301144],\n",
       "       [-0.56956408],\n",
       "       [-2.41212102]])"
      ]
     },
     "execution_count": 74,
     "metadata": {},
     "output_type": "execute_result"
    }
   ],
   "source": [
    "# Compare with linear regression\n",
    "linear = LinearRegression()\n",
    "linear.fit(X, y)\n",
    "y_pred_linear = linear.predict(X)\n",
    "y_pred_linear - y"
   ]
  },
  {
   "cell_type": "code",
   "execution_count": 255,
   "metadata": {},
   "outputs": [
    {
     "name": "stdout",
     "output_type": "stream",
     "text": [
      "(60, 4) (60, 1) (15, 4) (15, 1)\n"
     ]
    }
   ],
   "source": [
    "# Get data from the csv file\n",
    "df = pd.read_csv('final_data.csv')\n",
    "\n",
    "# Randomly select 80% of the data for training\n",
    "train = df.sample(frac=0.8, random_state=3)\n",
    "test = df.drop(train.index)\n",
    "X_train, y_train = np.array(train[[\"Day\",\"Company\",\"Ordered\",\"Event After\"]]), np.array(train[\"Duration\"])[:, np.newaxis]\n",
    "X_test, y_test = np.array(test[[\"Day\",\"Company\",\"Ordered\",\"Event After\"]]), np.array(test[\"Duration\"])[:, np.newaxis]\n",
    "print(X_train.shape, y_train.shape, X_test.shape, y_test.shape)"
   ]
  },
  {
   "cell_type": "code",
   "execution_count": 256,
   "metadata": {},
   "outputs": [
    {
     "name": "stdout",
     "output_type": "stream",
     "text": [
      "-4214.8696236360665\n",
      "[[ 2.69941828]\n",
      " [ 0.03182905]\n",
      " [ 0.64998092]\n",
      " [ 0.35137632]\n",
      " [-0.0190624 ]]\n",
      "3.8335328388713874\n",
      "27.721920044747506\n"
     ]
    },
    {
     "data": {
      "image/png": "[encoded data removed]",
      "text/plain": [
       "<Figure size 640x480 with 1 Axes>"
      ]
     },
     "metadata": {},
     "output_type": "display_data"
    }
   ],
   "source": [
    "# Fit the model\n",
    "poisson = PoissonRegression(dim=4, alpha=1e-7, n_iter=100000, lambda_=1e-8, weights=np.array([[1., 0., 1., 1., -1.]]).T)\n",
    "losses, weights = poisson.fit(X_train, y_train)\n",
    "\n",
    "# Plot the losses\n",
    "plt.plot(losses)\n",
    "plt.xlabel('Iterations')\n",
    "plt.ylabel('Loss')\n",
    "print(losses[-1])\n",
    "print(weights)\n",
    "\n",
    "# Find mean absolute error on the test set\n",
    "y_pred_pos = poisson.predict(X_test)\n",
    "mae = np.mean(np.abs(y_pred_pos - y_test))\n",
    "# print(y_pred - y_test)\n",
    "print(mae)\n",
    "# Find mean squared error on the test set\n",
    "mse = np.mean((y_pred_pos - y_test)**2)\n",
    "print(mse)"
   ]
  },
  {
   "cell_type": "code",
   "execution_count": 257,
   "metadata": {},
   "outputs": [
    {
     "name": "stdout",
     "output_type": "stream",
     "text": [
      "3.362975345502656\n",
      "15.911514179986023\n"
     ]
    }
   ],
   "source": [
    "# Fit linear regression\n",
    "linear = LinearRegression()\n",
    "linear.fit(X_train, y_train)\n",
    "y_pred_lin = linear.predict(X_test)\n",
    "\n",
    "# Find mean absolute error on the test set\n",
    "mae = np.mean(np.abs(y_pred_lin - y_test))\n",
    "print(mae)\n",
    "# Find mean squared error on the test set\n",
    "mse = np.mean((y_pred_lin - y_test)**2)\n",
    "print(mse)"
   ]
  },
  {
   "cell_type": "code",
   "execution_count": 258,
   "metadata": {},
   "outputs": [
    {
     "name": "stdout",
     "output_type": "stream",
     "text": [
      "[[ 0.52954098]\n",
      " [ 2.18226038]\n",
      " [ 1.14775472]\n",
      " [ 0.20337204]\n",
      " [ 3.62043823]\n",
      " [-2.67905794]\n",
      " [ 1.99631356]\n",
      " [ 3.75850581]\n",
      " [ 3.83232789]\n",
      " [-4.224126  ]\n",
      " [-0.25130333]\n",
      " [-6.87318089]\n",
      " [ 2.64023773]\n",
      " [ 3.80370516]\n",
      " [-7.85037999]]\n",
      "[[ -7.85161147]\n",
      " [  1.89277117]\n",
      " [  3.66027864]\n",
      " [ -0.39961726]\n",
      " [  0.12892159]\n",
      " [ -1.47868428]\n",
      " [  4.93785076]\n",
      " [  5.15147597]\n",
      " [  1.10978485]\n",
      " [ -0.13926554]\n",
      " [  2.25203102]\n",
      " [-13.46159024]\n",
      " [ -2.40364513]\n",
      " [  8.63891872]\n",
      " [ -3.99654594]]\n",
      "[[21]\n",
      " [19]\n",
      " [35]\n",
      " [33]\n",
      " [15]\n",
      " [39]\n",
      " [20]\n",
      " [21]\n",
      " [18]\n",
      " [43]\n",
      " [33]\n",
      " [34]\n",
      " [19]\n",
      " [25]\n",
      " [45]]\n",
      "[[1 1 0 1]\n",
      " [5 0 0 1]\n",
      " [3 1 0 0]\n",
      " [5 1 0 0]\n",
      " [0 0 0 0]\n",
      " [0 1 1 0]\n",
      " [1 0 0 1]\n",
      " [2 0 0 0]\n",
      " [4 0 0 0]\n",
      " [2 1 1 0]\n",
      " [3 1 0 1]\n",
      " [5 1 1 0]\n",
      " [1 0 1 1]\n",
      " [3 0 0 0]\n",
      " [6 1 1 0]]\n"
     ]
    }
   ],
   "source": [
    "print(y_pred_lin - y_pred_pos)\n",
    "print(y_test - y_pred_pos)\n",
    "print(y_test)\n",
    "print(X_test)"
   ]
  },
  {
   "cell_type": "code",
   "execution_count": null,
   "metadata": {},
   "outputs": [],
   "source": []
  }
 ],
 "metadata": {
  "kernelspec": {
   "display_name": "foml",
   "language": "python",
   "name": "python3"
  },
  "language_info": {
   "codemirror_mode": {
    "name": "ipython",
    "version": 3
   },
   "file_extension": ".py",
   "mimetype": "text/x-python",
   "name": "python",
   "nbconvert_exporter": "python",
   "pygments_lexer": "ipython3",
   "version": "3.11.5"
  },
  "orig_nbformat": 4
 },
 "nbformat": 4,
 "nbformat_minor": 2
}
