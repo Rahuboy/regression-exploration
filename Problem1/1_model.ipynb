{
 "cells": [
  {
   "cell_type": "code",
   "execution_count": 382,
   "metadata": {},
   "outputs": [],
   "source": [
    "# Authors: Rahul Ramachandran and Rishit D\n",
    "\n",
    "# Importing the required libraries\n",
    "try:\n",
    "    import numpy as np\n",
    "    import pandas as pd\n",
    "    from sklearn.linear_model import LinearRegression\n",
    "    from sklearn.preprocessing import StandardScaler\n",
    "    from sklearn.model_selection import cross_val_score\n",
    "    import scipy\n",
    "    import matplotlib.pyplot as plt\n",
    "except:\n",
    "    print(f'[INFO] Installing the required libraries')\n",
    "    %pip install numpy, pandas, scikit-learn, scipy, matplotlib\n",
    "    import numpy as np\n",
    "    import pandas as pd\n",
    "    from sklearn.linear_model import LinearRegression\n",
    "    from sklearn.preprocessing import StandardScaler\n",
    "    from sklearn.model_selection import cross_val_score\n",
    "    from scipy.stats import poisson\n",
    "    import matplotlib.pyplot as plt"
   ]
  },
  {
   "cell_type": "markdown",
   "metadata": {},
   "source": [
    "# Poisson Regression\n",
    "[Poisson Regression](https://en.wikipedia.org/wiki/Poisson_regression) is a linear generalized model where we assume that the output is modelled from a Poisson distribution. We assume that probabilities take the following form:\n",
    "\n",
    "$$ P(y=y_i|\\lambda) = \\frac{\\lambda^{y_i}}{e^{\\lambda}y_i!}$$\n",
    "\n",
    "Consequently, our log likelihood $l$ takes the form:\n",
    "\n",
    "$$ l(\\lambda|y_i)  = \\sum_{i=1}^n (y_i ln(\\lambda) - \\lambda - ln(y_i!)) $$\n",
    "\n",
    "In the Poisson regression model, we work under the assumption that $𝔼[y_i|x_i] = \\lambda_i = e^{x_i^T\\theta}$, giving us the new expression for the log likelihood as follows:\n",
    "\n",
    "$$ l(\\theta|y_i, X_i) = \\sum_{i=1}^n (y_i X_i^T \\theta - e^{X_i^T \\theta} - ln(y_i!)) $$\n",
    "\n",
    "Now the gradient of the log-likelihood with respect to the parameter vector $\\theta$:\n",
    "\n",
    "$$ \\nabla_\\theta l(\\theta|y_i, X_i) = \\sum_{i=1}^n (y_i - e^{X_i^T \\theta})X_i $$\n",
    "\n",
    "\n",
    "## Rationale Behind Model\n",
    "- One motivating factor for choosing the Poisson Distribution was the positive support; the predicted times cannot be negative, so using a Gaussian distribution wouldn't work as well. \n",
    "- The discrete nature of the Poisson RV is also helpful in this case, as time is being measured by the minute (and can hence be treated as discrete).\n",
    "- In addition to this, the shape of the distribution of durations seems to resemble a Poisson."
   ]
  },
  {
   "cell_type": "code",
   "execution_count": 383,
   "metadata": {},
   "outputs": [],
   "source": [
    "from typing import List\n",
    "\n",
    "class PoissonRegression:\n",
    "\n",
    "    def __init__(self, dim:int, alpha:float=0.01, n_iter:int=1000, lambda_:float=0.1, weights:np.ndarray=None):\n",
    "        \"\"\"\n",
    "            dim: Dimension of the data\n",
    "            alpha: Learning rate\n",
    "            n_iter: Max Number of iterations\n",
    "            lambda_: Regularization parameter\n",
    "            weights: Initial weights\n",
    "        \"\"\"\n",
    "        if weights is not None:\n",
    "            self.theta = weights # If weights provided, use them\n",
    "            assert self.theta.shape == (dim+1, 1)\n",
    "        else:\n",
    "            self.theta = np.zeros((dim+1, 1)) # include the bias term\n",
    "        self.alpha = alpha\n",
    "        self.n_iter = n_iter\n",
    "        self.lambda_ = lambda_\n",
    "    \n",
    "    def fit(self, X:np.ndarray, y:np.ndarray):\n",
    "        \"\"\"Fits the model (theta) to the data\n",
    "            params:\n",
    "                X: shape = (n, dim)\n",
    "                y: shape = (n, 1)\n",
    "            returns:\n",
    "                List of losses\n",
    "                Weight vector theta\n",
    "        \"\"\"\n",
    "        losses = []\n",
    "\n",
    "        # Concatenate a column of ones to X\n",
    "        X_c = np.concatenate((np.ones((X.shape[0], 1)), X), axis=1) # shape = (n, dim+1)\n",
    "\n",
    "        for iter in range(self.n_iter):\n",
    "            # Calculate the loss (ignore the constant factorial term)\n",
    "            loss = -np.sum(y * (X_c @ self.theta) - np.exp(X_c @ self.theta)) + self.lambda_ * np.sum(self.theta**2)\n",
    "            losses.append(loss)\n",
    "\n",
    "            # Update theta (gradient descent)\n",
    "            self.theta -= -self.alpha * (X_c.T @ (y - np.exp(X_c @ self.theta))) + 2 * self.lambda_ * self.theta\n",
    "        \n",
    "        return losses, self.theta\n",
    "    \n",
    "    def predict(self, X:np.ndarray)->np.ndarray:\n",
    "        \"\"\"Predicts the response variable\n",
    "            params:\n",
    "                X: shape = (n, dim)\n",
    "            returns:\n",
    "                y_pred: shape = (n, 1)\n",
    "        \"\"\"\n",
    "        # Concatenate a column of ones to X\n",
    "        X_c = np.concatenate((np.ones((X.shape[0], 1)), X), axis=1)\n",
    "        y_pred = np.exp(X_c @ self.theta)\n",
    "        return y_pred"
   ]
  },
  {
   "cell_type": "code",
   "execution_count": 384,
   "metadata": {},
   "outputs": [],
   "source": [
    "# Custom cross-validation for Poisson Regression\n",
    "def cross_val_poisson(data, cv=5):\n",
    "    \"\"\"Performs cross-validation\n",
    "        params:\n",
    "            data: Dataframe\n",
    "            cv: Number of folds\n",
    "        returns:\n",
    "            List of negative mean absolute errors\n",
    "    \"\"\"\n",
    "    # Generate cross-val folds\n",
    "    folds = np.array_split(data, cv)\n",
    "    nmaes = []\n",
    "    for i in range(cv):\n",
    "        # Split into train and test\n",
    "        test = folds[i]\n",
    "        train = pd.concat([folds[j] for j in range(cv) if j != i])\n",
    "        X_train, y_train = train[[\"Day\",\"Start\", \"Category\",\"Company\",\"Ordered\",\"Event After\"]].to_numpy(), train[[\"Duration\"]].to_numpy()\n",
    "        X_test, y_test = test[[\"Day\",\"Start\", \"Category\",\"Company\",\"Ordered\",\"Event After\"]].to_numpy(), test[[\"Duration\"]].to_numpy()\n",
    "\n",
    "        # Scale\n",
    "        scaler = StandardScaler()\n",
    "        X_train = scaler.fit_transform(X_train)\n",
    "        X_test = scaler.transform(X_test)\n",
    "\n",
    "        # Fit the model\n",
    "        model = PoissonRegression(dim=6, alpha=1e-7, n_iter=100000, lambda_=1e-8, weights=np.array([[1., 0., 0., 0., 1., 1., -1.]]).T)\n",
    "        losses, theta = model.fit(X_train, y_train)\n",
    "        \n",
    "        y_pred_pos = poisson.predict(X_test)\n",
    "        nmae = -np.mean(np.abs(y_pred_pos - y_test))\n",
    "        nmaes.append(nmae)\n",
    "        \n",
    "    return nmaes"
   ]
  },
  {
   "cell_type": "markdown",
   "metadata": {},
   "source": [
    "## Rationale behind Data Features\n",
    "The features selected are known to influence eating times (\"Day\",\"Start\", \"Category\",\"Company\",\"Ordered\",\"Event After\"). \n",
    "- The day of the week is a common feature, and was provided in the problem description\n",
    "- The category (breakfast/lunch/dinner) is another trivial feature\n",
    "- It is generally observed that eating out / ordering / eating with friends increases eating times. This lead to the inclusion of features like \"Company\", \"Ordered\" and \"Event After\"."
   ]
  },
  {
   "cell_type": "code",
   "execution_count": 385,
   "metadata": {},
   "outputs": [
    {
     "name": "stdout",
     "output_type": "stream",
     "text": [
      "(60, 6) (60, 1) (15, 6) (15, 1)\n"
     ]
    }
   ],
   "source": [
    "# Get data from the csv file\n",
    "df = pd.read_csv('final_data.csv')\n",
    "\n",
    "# Randomly select 80% of the data for training\n",
    "train = df.sample(frac=0.8, random_state=0)\n",
    "test = df.drop(train.index)\n",
    "X_train, y_train = np.array(train[[\"Day\",\"Start\", \"Category\",\"Company\",\"Ordered\",\"Event After\"]]), np.array(train[\"Duration\"])[:, np.newaxis]\n",
    "X_test, y_test = np.array(test[[\"Day\",\"Start\", \"Category\",\"Company\",\"Ordered\",\"Event After\"]]), np.array(test[\"Duration\"])[:, np.newaxis]\n",
    "\n",
    "# Scale\n",
    "scaler = StandardScaler()\n",
    "X_train = scaler.fit_transform(X_train)\n",
    "X_test = scaler.transform(X_test)\n",
    "\n",
    "print(X_train.shape, y_train.shape, X_test.shape, y_test.shape)"
   ]
  },
  {
   "cell_type": "code",
   "execution_count": 386,
   "metadata": {},
   "outputs": [
    {
     "name": "stdout",
     "output_type": "stream",
     "text": [
      "Model weights: [ 3.37318097  0.01722933 -0.03512211 -0.0332497   0.22116469  0.10608351\n",
      " -0.05456518]\n",
      "Mean Absolute Error: 3.3049324573327956\n",
      "Mean Squared Error: 21.321301403452445\n"
     ]
    },
    {
     "name": "stderr",
     "output_type": "stream",
     "text": [
      "/home/vader/.local/lib/python3.10/site-packages/numpy/core/fromnumeric.py:59: FutureWarning: 'DataFrame.swapaxes' is deprecated and will be removed in a future version. Please use 'DataFrame.transpose' instead.\n",
      "  return bound(*args, **kwds)\n"
     ]
    },
    {
     "name": "stdout",
     "output_type": "stream",
     "text": [
      "Cross Validation MAE (averaged over 5 runs): 3.3647729978677186\n"
     ]
    },
    {
     "data": {
      "image/png": "[encoded data removed]",
      "text/plain": [
       "<Figure size 640x480 with 1 Axes>"
      ]
     },
     "metadata": {},
     "output_type": "display_data"
    }
   ],
   "source": [
    "# Fit the model\n",
    "poisson = PoissonRegression(dim=6, alpha=1e-7, n_iter=100000, lambda_=1e-8, weights=np.array([[1., 0., 0.5, 0., 1., 1., -1.]]).T)\n",
    "losses, weights = poisson.fit(X_train, y_train)\n",
    "\n",
    "# Plot the losses\n",
    "plt.plot(losses)\n",
    "plt.xlabel('Iterations')\n",
    "plt.ylabel('Loss')\n",
    "print(f'Model weights: {weights.T[0]}')\n",
    "\n",
    "y_pred_pos = poisson.predict(X_test)\n",
    "\n",
    "# Find mean absolute error on the test set\n",
    "mae = np.mean(np.abs(y_pred_pos - y_test))\n",
    "print(f'Mean Absolute Error: {mae}')\n",
    "\n",
    "# Find mean squared error on the test set\n",
    "mse = np.mean((y_pred_pos - y_test)**2)\n",
    "print(f'Mean Squared Error: {mse}')\n",
    "\n",
    "# Perform cross-validation\n",
    "nmaes = cross_val_poisson(df, cv=5)\n",
    "print(f'Cross Validation MAE (averaged over 5 runs): {-np.mean(nmaes)}')"
   ]
  },
  {
   "cell_type": "code",
   "execution_count": 387,
   "metadata": {},
   "outputs": [
    {
     "name": "stdout",
     "output_type": "stream",
     "text": [
      "Mean Absolute Error: 3.4791051273180127\n",
      "Mean Squared Error: 23.38674534345299\n",
      "Cross Validation MAE (averaged over 5 runs): 3.7813704969180693\n"
     ]
    }
   ],
   "source": [
    "# Fit linear regression\n",
    "linear = LinearRegression()\n",
    "vals = linear.fit(X_train, y_train)\n",
    "# print(vals.coef_, vals.intercept_)\n",
    "y_pred_lin = linear.predict(X_test)\n",
    "\n",
    "# Find mean absolute error on the test set\n",
    "mae = np.mean(np.abs(y_pred_lin - y_test))\n",
    "print(f'Mean Absolute Error: {mae}')\n",
    "# Find mean squared error on the test set\n",
    "mse = np.mean((y_pred_lin - y_test)**2)\n",
    "print(f'Mean Squared Error: {mse}')\n",
    "\n",
    "# Cross-validate\n",
    "cv_results = cross_val_score(linear, train[[\"Day\",\"Start\", \"Category\",\"Company\",\"Ordered\",\"Event After\"]], train[\"Duration\"], cv=5, scoring='neg_mean_absolute_error')\n",
    "print(f'Cross Validation MAE (averaged over 5 runs): {-np.mean(cv_results)}')"
   ]
  },
  {
   "cell_type": "markdown",
   "metadata": {},
   "source": [
    "# Summary\n",
    "\n",
    "The results are summarised in the table below:\n",
    "| Model | MAE | MSE | Averaged MAE |\n",
    "| --- | --- | --- | --- |\n",
    "| Linear Regression | 3.48 | 23.39 | 3.78 |\n",
    "| Poisson Regression | 3.30 | 21.32 | 3.36 |\n",
    "\n",
    "The Poisson Regression Model outperforms the Linear Regression Model, and thus demonstrates its suitability for the task.\n",
    "\n",
    "## Analysis of Weights\n",
    "The weights obtained were: \n",
    "\n",
    "\n",
    "[[ 3.37318097]\n",
    " [ 0.01722933]\n",
    " [-0.03512211]\n",
    " [-0.0332497 ]\n",
    " [ 0.22116469]\n",
    " [ 0.10608351]\n",
    " [-0.05456518]]\n",
    " \n",
    "\n",
    "This reveals some interesting patterns:\n",
    "- The first number is the weight for the intercept, and is of no significance.\n",
    "- The weight corresponding to `ordered` is positive, and reflects the positive correlation between ordering food and the duration.\n",
    "- We observe that the weight corresponding to `company` is positive and has a relatively higher magnitude. This is also in-line with what we observed in the EDA. The weight corresponding to `event after` is negative.\n",
    "- Another interesting thing to note is that the magnitudes of weights are lower for features (like start time) which seem uncorrelated with the duration."
   ]
  }
 ],
 "metadata": {
  "kernelspec": {
   "display_name": "foml",
   "language": "python",
   "name": "python3"
  },
  "language_info": {
   "codemirror_mode": {
    "name": "ipython",
    "version": 3
   },
   "file_extension": ".py",
   "mimetype": "text/x-python",
   "name": "python",
   "nbconvert_exporter": "python",
   "pygments_lexer": "ipython3",
   "version": "3.11.5"
  },
  "orig_nbformat": 4
 },
 "nbformat": 4,
 "nbformat_minor": 2
}
