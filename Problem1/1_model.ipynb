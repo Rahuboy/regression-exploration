{
 "cells": [
  {
   "cell_type": "code",
   "execution_count": 22,
   "metadata": {},
   "outputs": [],
   "source": [
    "# Authors: Rahul Ramachandran and Rishit D\n",
    "\n",
    "# Importing the required libraries\n",
    "try:\n",
    "    import numpy as np\n",
    "    import pandas as pd\n",
    "    from sklearn.linear_model import LinearRegression\n",
    "    from sklearn.model_selection import cross_val_score\n",
    "    import scipy\n",
    "    import matplotlib.pyplot as plt\n",
    "except:\n",
    "    print(f'[INFO] Installing the required libraries')\n",
    "    %pip install numpy, pandas, scikit-learn, scipy, matplotlib\n",
    "    import numpy as np\n",
    "    import pandas as pd\n",
    "    from sklearn.linear_model import LinearRegression\n",
    "    from sklearn.model_selection import cross_val_score\n",
    "    from scipy.stats import poisson\n",
    "    import matplotlib.pyplot as plt"
   ]
  },
  {
   "cell_type": "code",
   "execution_count": 36,
   "metadata": {},
   "outputs": [],
   "source": [
    "from typing import List\n",
    "\n",
    "class PoissonRegression:\n",
    "\n",
    "    def __init__(self, dim:int, alpha:float=0.01, n_iter:int=1000, lambda_:float=0.1, weights:np.ndarray=None):\n",
    "        \"\"\"\n",
    "            dim: Dimension of the data\n",
    "            alpha: Learning rate\n",
    "            n_iter: Max Number of iterations\n",
    "            lambda_: Regularization parameter\n",
    "            weights: Initial weights\n",
    "        \"\"\"\n",
    "        if weights is not None:\n",
    "            self.theta = weights # If weights provided, use them\n",
    "            assert self.theta.shape == (dim+1, 1)\n",
    "        else:\n",
    "            self.theta = np.zeros((dim+1, 1)) # include the bias term\n",
    "        self.alpha = alpha\n",
    "        self.n_iter = n_iter\n",
    "        self.lambda_ = lambda_\n",
    "    \n",
    "    def fit(self, X:np.ndarray, y:np.ndarray):\n",
    "        \"\"\"Fits the model (theta) to the data\n",
    "            params:\n",
    "                X: shape = (n, dim)\n",
    "                y: shape = (n, 1)\n",
    "            returns:\n",
    "                List of losses\n",
    "                Weight vector theta\n",
    "        \"\"\"\n",
    "        losses = []\n",
    "\n",
    "        # Concatenate a column of ones to X\n",
    "        X_c = np.concatenate((np.ones((X.shape[0], 1)), X), axis=1) # shape = (n, dim+1)\n",
    "\n",
    "        for iter in range(self.n_iter):\n",
    "            # Calculate the loss (ignore the constant factorial term)\n",
    "            loss = -np.sum(y * (X_c @ self.theta) - np.exp(X_c @ self.theta)) + self.lambda_ * np.sum(self.theta**2)\n",
    "            losses.append(loss)\n",
    "\n",
    "            # Update theta (gradient descent)\n",
    "            self.theta -= -self.alpha * (X_c.T @ (y - np.exp(X_c @ self.theta))) + 2 * self.lambda_ * self.theta\n",
    "        \n",
    "        return losses, self.theta\n",
    "    \n",
    "    def predict(self, X:np.ndarray)->np.ndarray:\n",
    "        \"\"\"Predicts the response variable\n",
    "            params:\n",
    "                X: shape = (n, dim)\n",
    "            returns:\n",
    "                y_pred: shape = (n, 1)\n",
    "        \"\"\"\n",
    "        # Concatenate a column of ones to X\n",
    "        X_c = np.concatenate((np.ones((X.shape[0], 1)), X), axis=1)\n",
    "        y_pred = np.exp(X_c @ self.theta)\n",
    "        return y_pred"
   ]
  },
  {
   "cell_type": "code",
   "execution_count": 54,
   "metadata": {},
   "outputs": [],
   "source": [
    "# Custom cross-validation for Poisson Regression\n",
    "def cross_val_poisson(data, cv=5):\n",
    "    \"\"\"Performs cross-validation\n",
    "        params:\n",
    "            data: Dataframe\n",
    "            cv: Number of folds\n",
    "        returns:\n",
    "            List of negative mean absolute errors\n",
    "    \"\"\"\n",
    "    # Generate cross-val folds\n",
    "    folds = np.array_split(data, cv)\n",
    "    nmaes = []\n",
    "    for i in range(cv):\n",
    "        # Split into train and test\n",
    "        test = folds[i]\n",
    "        train = pd.concat([folds[j] for j in range(cv) if j != i])\n",
    "        X_train, y_train = train[[\"Day\",\"Company\",\"Ordered\",\"Event After\"]].to_numpy(), train[[\"Duration\"]].to_numpy()\n",
    "        X_test, y_test = test[[\"Day\",\"Company\",\"Ordered\",\"Event After\"]].to_numpy(), test[[\"Duration\"]].to_numpy()\n",
    "\n",
    "        # Fit the model\n",
    "        model = PoissonRegression(dim=4, alpha=1e-7, n_iter=100000, lambda_=1e-8, weights=np.array([[1., 0., 1., 1., -1.]]).T)\n",
    "        losses, theta = model.fit(X_train, y_train)\n",
    "        \n",
    "        y_pred_pos = poisson.predict(X_test)\n",
    "        nmae = -np.mean(np.abs(y_pred_pos - y_test))\n",
    "        nmaes.append(nmae)\n",
    "        \n",
    "    return nmaes"
   ]
  },
  {
   "cell_type": "code",
   "execution_count": 57,
   "metadata": {},
   "outputs": [
    {
     "name": "stdout",
     "output_type": "stream",
     "text": [
      "(60, 4) (60, 1) (15, 4) (15, 1)\n"
     ]
    }
   ],
   "source": [
    "# Get data from the csv file\n",
    "df = pd.read_csv('final_data.csv')\n",
    "\n",
    "# Randomly select 80% of the data for training\n",
    "train = df.sample(frac=0.8, random_state=0)\n",
    "test = df.drop(train.index)\n",
    "X_train, y_train = np.array(train[[\"Day\",\"Company\",\"Ordered\",\"Event After\"]]), np.array(train[\"Duration\"])[:, np.newaxis]\n",
    "X_test, y_test = np.array(test[[\"Day\",\"Company\",\"Ordered\",\"Event After\"]]), np.array(test[\"Duration\"])[:, np.newaxis]\n",
    "print(X_train.shape, y_train.shape, X_test.shape, y_test.shape)"
   ]
  },
  {
   "cell_type": "code",
   "execution_count": 55,
   "metadata": {},
   "outputs": [
    {
     "name": "stdout",
     "output_type": "stream",
     "text": [
      "-4214.8696236360665\n",
      "[[ 2.69941828]\n",
      " [ 0.03182905]\n",
      " [ 0.64998092]\n",
      " [ 0.35137632]\n",
      " [-0.0190624 ]]\n",
      "1.7471475539352412\n",
      "7.820186667593065\n"
     ]
    },
    {
     "name": "stderr",
     "output_type": "stream",
     "text": [
      "/Users/rahulramachandran/anaconda3/envs/foml/lib/python3.11/site-packages/numpy/core/fromnumeric.py:59: FutureWarning: 'DataFrame.swapaxes' is deprecated and will be removed in a future version. Please use 'DataFrame.transpose' instead.\n",
      "  return bound(*args, **kwds)\n"
     ]
    },
    {
     "name": "stdout",
     "output_type": "stream",
     "text": [
      "-3.930818624051541\n"
     ]
    },
    {
     "data": {
      "image/png": "[encoded data removed]",
      "text/plain": [
       "<Figure size 640x480 with 1 Axes>"
      ]
     },
     "metadata": {},
     "output_type": "display_data"
    }
   ],
   "source": [
    "# Fit the model\n",
    "poisson = PoissonRegression(dim=4, alpha=1e-7, n_iter=100000, lambda_=1e-8, weights=np.array([[1., 0., 1., 1., -1.]]).T)\n",
    "losses, weights = poisson.fit(X_train, y_train)\n",
    "\n",
    "# Plot the losses\n",
    "plt.plot(losses)\n",
    "plt.xlabel('Iterations')\n",
    "plt.ylabel('Loss')\n",
    "print(losses[-1])\n",
    "print(weights)\n",
    "\n",
    "y_pred_pos = poisson.predict(X_test)\n",
    "\n",
    "# Find mean absolute error on the test set\n",
    "mae = np.mean(np.abs(y_pred_pos - y_test))\n",
    "print(f'Mean Absolute Error: {mae}')\n",
    "\n",
    "# Find mean squared error on the test set\n",
    "mse = np.mean((y_pred_pos - y_test)**2)\n",
    "print(f'Mean Squared Error: {mse}')\n",
    "\n",
    "# Perform cross-validation\n",
    "nmaes = cross_val_poisson(df, cv=5)\n",
    "print(f'Cross Validation MAE (averaged over 5 runs): {-np.mean(nmaes)}')"
   ]
  },
  {
   "cell_type": "code",
   "execution_count": 49,
   "metadata": {},
   "outputs": [
    {
     "name": "stdout",
     "output_type": "stream",
     "text": [
      "[[ 0.5577566  12.32268965  6.98542006 -1.99081043]] [18.49151664]\n",
      "2.637805350449054\n",
      "10.122334268305982\n",
      "-3.7421407706764604\n"
     ]
    }
   ],
   "source": [
    "# Fit linear regression\n",
    "linear = LinearRegression()\n",
    "vals = linear.fit(X_train, y_train)\n",
    "print(vals.coef_, vals.intercept_)\n",
    "y_pred_lin = linear.predict(X_test)\n",
    "\n",
    "# Find mean absolute error on the test set\n",
    "mae = np.mean(np.abs(y_pred_lin - y_test))\n",
    "print(f'Mean Absolute Error: {mae}')\n",
    "# Find mean squared error on the test set\n",
    "mse = np.mean((y_pred_lin - y_test)**2)\n",
    "print(f'Mean Squared Error: {mse}')\n",
    "\n",
    "# Cross-validate\n",
    "cv_results = cross_val_score(linear, train[[\"Day\",\"Company\",\"Ordered\",\"Event After\"]], train[\"Duration\"], cv=5, scoring='neg_mean_absolute_error')\n",
    "print(f'Cross Validation MAE (averaged over 5 runs): {-np.mean(cv_results)}')"
   ]
  }
 ],
 "metadata": {
  "kernelspec": {
   "display_name": "foml",
   "language": "python",
   "name": "python3"
  },
  "language_info": {
   "codemirror_mode": {
    "name": "ipython",
    "version": 3
   },
   "file_extension": ".py",
   "mimetype": "text/x-python",
   "name": "python",
   "nbconvert_exporter": "python",
   "pygments_lexer": "ipython3",
   "version": "3.11.5"
  },
  "orig_nbformat": 4
 },
 "nbformat": 4,
 "nbformat_minor": 2
}
